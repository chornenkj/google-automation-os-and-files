{
 "cells": [
  {
   "cell_type": "markdown",
   "id": "b1c0d89b",
   "metadata": {},
   "source": [
    "### Pass this. I did not handle why unittest does not work in Jupiter"
   ]
  },
  {
   "cell_type": "code",
   "execution_count": 1,
   "id": "66dd7fef",
   "metadata": {},
   "outputs": [],
   "source": [
    "text = \"\"\"Blossom Gill,blossom@abc.edu,\n",
    "Hayes Delgado,nonummy@abc.edu\n",
    "Petra Jones,ac@abc.edu\n",
    "Oleg Noel,noel@abc.edu\n",
    "Ahmed Miller,ahmed.miller@abc.edu\n",
    "Macaulay Douglas,mdouglas@abc.edu\n",
    "Aurora Grant,enim.non@abc.edu\n",
    "Madison Mcintosh,mcintosh@abc.edu\n",
    "Montana Powell,montanap@abc.edu\n",
    "Rogan Robinson,rr.robinson@abc.edu\n",
    "Simon Rivera,sri@abc.edu\n",
    "Benedict Pacheco,bpacheco@abc.edu\n",
    "Maisie Hendrix,mai.hendrix@abc.edu\n",
    "Xaviera Gould,xlg@abc.edu\n",
    "Oren Rollins,oren@abc.edu\n",
    "Flavia Santiago,flavia@abc.edu\n",
    "Jackson Owens,jacksonowens@abc.edu\n",
    "Britanni Humphrey,britanni@abc.edu\n",
    "Kirk Nixon,kirknixon@abc.edu\n",
    "Bree Campbell,breee@abc.edu\"\"\"\n",
    "\n",
    "with open('test_emails.csv','w') as file:\n",
    "    file.write(text)\n",
    "    file.close()"
   ]
  },
  {
   "cell_type": "code",
   "execution_count": 6,
   "id": "2ca2c80a",
   "metadata": {},
   "outputs": [
    {
     "name": "stdout",
     "output_type": "stream",
     "text": [
      "mai.hendrix@abc.edu\n"
     ]
    }
   ],
   "source": [
    "#!/usr/bin/env python3\n",
    "\n",
    "# Script to test\n",
    "import csv\n",
    "import sys\n",
    "\n",
    "\n",
    "def populate_dictionary(filename):\n",
    "    \"\"\"Populate a dictionary with name/email pairs for easy lookup.\"\"\"\n",
    "    email_dict = {}\n",
    "    with open(filename) as csvfile:\n",
    "        lines = csv.reader(csvfile, delimiter = ',')\n",
    "        for row in lines:\n",
    "            name = str(row[0].lower())\n",
    "            email_dict[name] = row[1]\n",
    "    return email_dict\n",
    "\n",
    "\n",
    "def find_email(*args):\n",
    "    \"\"\" Return an email address based on the username given.\"\"\"\n",
    "    # Create the username based on the command line input.\n",
    "    try:\n",
    "        # fullname = str(argv[1] + \" \" + argv[2]) uncomment if in file\n",
    "        fullname = str(args[0] + \" \" + args[1])\n",
    "        # Preprocess the data\n",
    "        email_dict = populate_dictionary('test_emails.csv')\n",
    "        # If email exists, print it\n",
    "        if email_dict.get(fullname.lower()):\n",
    "            return email_dict.get(fullname.lower())\n",
    "        else:\n",
    "            return \"No email address found\"\n",
    "    except IndexError:\n",
    "        return \"Missing parameters\"\n",
    "    \n",
    "    \n",
    "def main():\n",
    "    print(find_email(sys.argv))\n",
    "\n",
    "# if __name__ == \"__main__\":\n",
    "#     main()\n",
    "\n",
    "print(find_email('Maisie', 'Hendrix'))"
   ]
  },
  {
   "cell_type": "code",
   "execution_count": 13,
   "id": "34437dff",
   "metadata": {},
   "outputs": [
    {
     "ename": "SystemExit",
     "evalue": "True",
     "output_type": "error",
     "traceback": [
      "\u001b[1;31m---------------------------------------------------------------------------\u001b[0m",
      "\u001b[1;31mSystemExit\u001b[0m                                Traceback (most recent call last)",
      "Input \u001b[1;32mIn [12]\u001b[0m, in \u001b[0;36m<cell line: 24>\u001b[1;34m()\u001b[0m\n\u001b[0;32m     18\u001b[0m         \u001b[38;5;28mself\u001b[39m\u001b[38;5;241m.\u001b[39massertEqual(find_email(testcase), expected)\n\u001b[0;32m     21\u001b[0m \u001b[38;5;66;03m# if __name__ == '__main__':\u001b[39;00m\n\u001b[0;32m     22\u001b[0m \u001b[38;5;66;03m#     unittest.main()\u001b[39;00m\n\u001b[1;32m---> 24\u001b[0m \u001b[43munittest\u001b[49m\u001b[38;5;241;43m.\u001b[39;49m\u001b[43mmain\u001b[49m\u001b[43m(\u001b[49m\u001b[43m)\u001b[49m\n",
      "File \u001b[1;32m~\\anaconda3\\lib\\unittest\\main.py:101\u001b[0m, in \u001b[0;36mTestProgram.__init__\u001b[1;34m(self, module, defaultTest, argv, testRunner, testLoader, exit, verbosity, failfast, catchbreak, buffer, warnings, tb_locals)\u001b[0m\n\u001b[0;32m     99\u001b[0m \u001b[38;5;28mself\u001b[39m\u001b[38;5;241m.\u001b[39mprogName \u001b[38;5;241m=\u001b[39m os\u001b[38;5;241m.\u001b[39mpath\u001b[38;5;241m.\u001b[39mbasename(argv[\u001b[38;5;241m0\u001b[39m])\n\u001b[0;32m    100\u001b[0m \u001b[38;5;28mself\u001b[39m\u001b[38;5;241m.\u001b[39mparseArgs(argv)\n\u001b[1;32m--> 101\u001b[0m \u001b[38;5;28;43mself\u001b[39;49m\u001b[38;5;241;43m.\u001b[39;49m\u001b[43mrunTests\u001b[49m\u001b[43m(\u001b[49m\u001b[43m)\u001b[49m\n",
      "File \u001b[1;32m~\\anaconda3\\lib\\unittest\\main.py:273\u001b[0m, in \u001b[0;36mTestProgram.runTests\u001b[1;34m(self)\u001b[0m\n\u001b[0;32m    271\u001b[0m \u001b[38;5;28mself\u001b[39m\u001b[38;5;241m.\u001b[39mresult \u001b[38;5;241m=\u001b[39m testRunner\u001b[38;5;241m.\u001b[39mrun(\u001b[38;5;28mself\u001b[39m\u001b[38;5;241m.\u001b[39mtest)\n\u001b[0;32m    272\u001b[0m \u001b[38;5;28;01mif\u001b[39;00m \u001b[38;5;28mself\u001b[39m\u001b[38;5;241m.\u001b[39mexit:\n\u001b[1;32m--> 273\u001b[0m     \u001b[43msys\u001b[49m\u001b[38;5;241;43m.\u001b[39;49m\u001b[43mexit\u001b[49m\u001b[43m(\u001b[49m\u001b[38;5;129;43;01mnot\u001b[39;49;00m\u001b[43m \u001b[49m\u001b[38;5;28;43mself\u001b[39;49m\u001b[38;5;241;43m.\u001b[39;49m\u001b[43mresult\u001b[49m\u001b[38;5;241;43m.\u001b[39;49m\u001b[43mwasSuccessful\u001b[49m\u001b[43m(\u001b[49m\u001b[43m)\u001b[49m\u001b[43m)\u001b[49m\n",
      "\u001b[1;31mSystemExit\u001b[0m: True"
     ]
    },
    {
     "name": "stderr",
     "output_type": "stream",
     "text": [
      "E\n",
      "======================================================================\n",
      "ERROR: C:\\Users\\21 (unittest.loader._FailedTest)\n",
      "----------------------------------------------------------------------\n",
      "AttributeError: module '__main__' has no attribute 'C:\\Users\\21'\n",
      "\n",
      "----------------------------------------------------------------------\n",
      "Ran 1 test in 0.002s\n",
      "\n",
      "FAILED (errors=1)\n"
     ]
    },
    {
     "ename": "SystemExit",
     "evalue": "True",
     "output_type": "error",
     "traceback": [
      "An exception has occurred, use %tb to see the full traceback.\n",
      "\u001b[1;31mSystemExit\u001b[0m\u001b[1;31m:\u001b[0m True\n"
     ]
    },
    {
     "name": "stderr",
     "output_type": "stream",
     "text": [
      "C:\\Users\\21.12.20\\anaconda3\\lib\\site-packages\\IPython\\core\\interactiveshell.py:3377: UserWarning: To exit: use 'exit', 'quit', or Ctrl-D.\n",
      "  warn(\"To exit: use 'exit', 'quit', or Ctrl-D.\", stacklevel=1)\n"
     ]
    }
   ],
   "source": [
    "%tb\n",
    "#!/usr/bin/env python3\n",
    "\n",
    "#Test script\n",
    "import unittest\n",
    "# from emails import find_email\n",
    "class EmailsTest(unittest.TestCase):\n",
    "    def test_basic(self):\n",
    "        testcase = [None, \"Bree\", \"Campbell\"]\n",
    "        expected = \"breee@abc.edu\"\n",
    "        self.assertEqual(find_email(testcase), expected)\n",
    "    def test_one_name(self):\n",
    "        testcase = [None, \"John\"]\n",
    "        expected = \"Missing parameters\"\n",
    "        self.assertEqual(find_email(testcase), expected)\n",
    "    def test_two_name(self):\n",
    "        testcase = [None, \"Roy\",\"Cooper\"]\n",
    "        expected = \"No email address found\"\n",
    "        self.assertEqual(find_email(testcase), expected)\n",
    "        \n",
    "        \n",
    "# if __name__ == '__main__':\n",
    "#     unittest.main()\n",
    "\n",
    "unittest.main()"
   ]
  },
  {
   "cell_type": "code",
   "execution_count": null,
   "id": "c0f8f3b3",
   "metadata": {},
   "outputs": [],
   "source": []
  },
  {
   "cell_type": "code",
   "execution_count": null,
   "id": "88b0ee4f",
   "metadata": {},
   "outputs": [],
   "source": []
  }
 ],
 "metadata": {
  "kernelspec": {
   "display_name": "Python 3 (ipykernel)",
   "language": "python",
   "name": "python3"
  },
  "language_info": {
   "codemirror_mode": {
    "name": "ipython",
    "version": 3
   },
   "file_extension": ".py",
   "mimetype": "text/x-python",
   "name": "python",
   "nbconvert_exporter": "python",
   "pygments_lexer": "ipython3",
   "version": "3.9.12"
  }
 },
 "nbformat": 4,
 "nbformat_minor": 5
}
