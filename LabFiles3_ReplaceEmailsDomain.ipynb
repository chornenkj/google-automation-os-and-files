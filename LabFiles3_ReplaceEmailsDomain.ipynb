{
 "cells": [
  {
   "cell_type": "markdown",
   "id": "0ec3617d",
   "metadata": {},
   "source": [
    "### The task is to replace 'abc' in each email domain to 'xyz'"
   ]
  },
  {
   "cell_type": "code",
   "execution_count": 2,
   "id": "a4042812",
   "metadata": {},
   "outputs": [],
   "source": [
    "# Cell to create a file 'emails_data.csv' needed to perform task\n",
    "# If file exists do not use it\n",
    "text = \"\"\"Full Name, Email Address\n",
    "Blossom Gill, blossom@abc.edu\n",
    "Hayes Delgado, nonummy@utnisia.com\n",
    "Petra Jones, ac@abc.edu\n",
    "Oleg Noel, noel@liberomauris.ca\n",
    "Ahmed Miller, ahmed.miller@nequenonquam.co.uk\n",
    "Macaulay Douglas, mdouglas@abc.edu\n",
    "Aurora Grant, enim.non@abc.edu\n",
    "Madison Mcintosh, mcintosh@nisiaenean.net\n",
    "Montana Powell, montanap@semmagna.org\n",
    "Rogan Robinson, rr.robinson@abc.edu\n",
    "Simon Rivera, sri@abc.edu\n",
    "Benedict Pacheco, bpacheco@abc.edu\n",
    "Maisie Hendrix, mai.hendrix@abc.edu\n",
    "Xaviera Gould, xlg@utnisia.net\n",
    "Oren Rollins, oren@semmagna.com\n",
    "Flavia Santiago, flavia@utnisia.net\n",
    "Jackson Owens, jackowens@abc.edu\n",
    "Britanni Humphrey, britanni@ut.net\n",
    "Kirk Nixon, kirknixon@abc.edu\n",
    "Bree Campbell, breee@utnisia.net\"\"\"\n",
    "\n",
    "with open('emails_data.csv','w') as file:\n",
    "    file.write(text)"
   ]
  },
  {
   "cell_type": "code",
   "execution_count": 2,
   "id": "96b74205",
   "metadata": {},
   "outputs": [],
   "source": [
    "#!/usr/bin/env python3\n",
    "import re\n",
    "import csv\n",
    "\n",
    "def contains_domain(address, domain):\n",
    "    \"\"\"Returns True if the email address contains the given,domain,in the domain position, false if not.\"\"\"\n",
    "    domain = r'[\\w\\.-]+@'+domain+'$'\n",
    "    if re.match(domain,address):\n",
    "        return True\n",
    "    return False\n",
    "\n",
    "def replace_domain(address, old_domain, new_domain):\n",
    "    \"\"\"Replaces the old domain with the new domain in the received address.\"\"\"\n",
    "    old_domain_pattern = r'' + old_domain + '$'\n",
    "    address = re.sub(old_domain_pattern, new_domain, address)\n",
    "    return address\n",
    "\n",
    "def main():\n",
    "    \"\"\"Processes the list of emails, replacing any instances of the old domain with the new domain.\"\"\"\n",
    "    old_domain, new_domain = 'abc.edu', 'xyz.edu'\n",
    "    csv_file_location = 'emails_data.csv'\n",
    "    report_file = 'emails_replaced.csv'\n",
    "    user_email_list = []\n",
    "    old_domain_email_list = []\n",
    "    new_domain_email_list = []\n",
    "    with open(csv_file_location, 'r') as f:\n",
    "        user_data_list = list(csv.reader(f))\n",
    "        user_email_list = [data[1].strip() for data in user_data_list[1:]]\n",
    "        for email_address in user_email_list:\n",
    "            if contains_domain(email_address, old_domain):\n",
    "                old_domain_email_list.append(email_address)\n",
    "                replaced_email = replace_domain(email_address,old_domain,new_domain)\n",
    "                new_domain_email_list.append(replaced_email)\n",
    "        email_key = ' ' + 'Email Address'\n",
    "        email_index = user_data_list[0].index(email_key)\n",
    "        for user in user_data_list[1:]:\n",
    "            for old_domain, new_domain in zip(old_domain_email_list, new_domain_email_list):\n",
    "                if user[email_index] == ' ' + old_domain:\n",
    "                    user[email_index] = ' ' + new_domain\n",
    "    f.close()\n",
    "    with open(report_file, 'w+') as output_file:\n",
    "        writer = csv.writer(output_file)\n",
    "        writer.writerows(user_data_list)\n",
    "    output_file.close()\n",
    "    \n",
    "main()"
   ]
  },
  {
   "cell_type": "code",
   "execution_count": 10,
   "id": "1be78acb",
   "metadata": {},
   "outputs": [],
   "source": [
    "# Cleaning newlines\n",
    "with open('emails_replaced.csv') as file:\n",
    "    text = file.read()\n",
    "text = text.replace('\\n\\n','\\n')\n",
    "with open('emails_replaced.csv','w') as file:\n",
    "    file.write(text)"
   ]
  },
  {
   "cell_type": "code",
   "execution_count": 11,
   "id": "c11f9f3c",
   "metadata": {},
   "outputs": [
    {
     "name": "stdout",
     "output_type": "stream",
     "text": [
      "Full Name, Email Address\n",
      "Blossom Gill, blossom@xyz.edu\n",
      "Hayes Delgado, nonummy@utnisia.com\n",
      "Petra Jones, ac@xyz.edu\n",
      "Oleg Noel, noel@liberomauris.ca\n",
      "Ahmed Miller, ahmed.miller@nequenonquam.co.uk\n",
      "Macaulay Douglas, mdouglas@xyz.edu\n",
      "Aurora Grant, enim.non@xyz.edu\n",
      "Madison Mcintosh, mcintosh@nisiaenean.net\n",
      "Montana Powell, montanap@semmagna.org\n",
      "Rogan Robinson, rr.robinson@xyz.edu\n",
      "Simon Rivera, sri@xyz.edu\n",
      "Benedict Pacheco, bpacheco@xyz.edu\n",
      "Maisie Hendrix, mai.hendrix@xyz.edu\n",
      "Xaviera Gould, xlg@utnisia.net\n",
      "Oren Rollins, oren@semmagna.com\n",
      "Flavia Santiago, flavia@utnisia.net\n",
      "Jackson Owens, jackowens@xyz.edu\n",
      "Britanni Humphrey, britanni@ut.net\n",
      "Kirk Nixon, kirknixon@xyz.edu\n",
      "Bree Campbell, breee@utnisia.net\n",
      "\n"
     ]
    }
   ],
   "source": [
    "# Check the resulted file\n",
    "with open('emails_replaced.csv') as file:\n",
    "    text = file.read()\n",
    "print(text)"
   ]
  },
  {
   "cell_type": "code",
   "execution_count": null,
   "id": "d5f0e190",
   "metadata": {},
   "outputs": [],
   "source": []
  }
 ],
 "metadata": {
  "kernelspec": {
   "display_name": "Python 3 (ipykernel)",
   "language": "python",
   "name": "python3"
  },
  "language_info": {
   "codemirror_mode": {
    "name": "ipython",
    "version": 3
   },
   "file_extension": ".py",
   "mimetype": "text/x-python",
   "name": "python",
   "nbconvert_exporter": "python",
   "pygments_lexer": "ipython3",
   "version": "3.9.12"
  }
 },
 "nbformat": 4,
 "nbformat_minor": 5
}
