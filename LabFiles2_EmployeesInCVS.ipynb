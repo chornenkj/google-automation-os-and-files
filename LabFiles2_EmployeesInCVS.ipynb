{
 "cells": [
  {
   "cell_type": "code",
   "execution_count": 2,
   "id": "fb0f3872",
   "metadata": {},
   "outputs": [],
   "source": [
    "text = \"\"\"Full Name, Username, Department\n",
    "Audrey Miller, audrey, Development\n",
    "Arden Garcia, ardeng, Sales\n",
    "Bailey Thomas, baileyt, Human Resources\n",
    "Blake Sousa, sousa, IT infrastructure\n",
    "Cameron Nguyen, nguyen, Marketing\n",
    "Charlie Grey, greyc, Development\n",
    "Chris Black, chrisb, User Experience Research\n",
    "Courtney Silva, silva, IT infrastructure\n",
    "Darcy Johnsonn, darcy, IT infrastructure\n",
    "Elliot Lamb, elliotl, Development\n",
    "Emery Halls, halls, Sales\n",
    "Flynn McMillan, flynn, Marketing\n",
    "Harley Klose, harley, Human Resources\n",
    "Jean May Coy, jeanm, Vendor operations\n",
    "Kay Stevens, kstev, Sales\n",
    "Lio Nelson, lion, User Experience Research\n",
    "Logan Tillas, tillas, Vendor operations\n",
    "Micah Lopes, micah, Development\n",
    "Sol Mansi, solm, IT infrastructure\"\"\"\n",
    "\n",
    "with open('employees_data.csv','w') as file:\n",
    "    file.write(text)\n",
    "    file.close()\n"
   ]
  },
  {
   "cell_type": "code",
   "execution_count": 3,
   "id": "a2aea365",
   "metadata": {},
   "outputs": [],
   "source": [
    "import csv\n",
    "\n",
    "def read_employees(csv_file_location):\n",
    "    csv.register_dialect('empDialect', skipinitialspace=True, strict=True)\n",
    "    employee_file = csv.DictReader(open(csv_file_location), dialect = 'empDialect')\n",
    "    employee_list = []\n",
    "    for data in employee_file:\n",
    "        employee_list.append(data)\n",
    "    return employee_list\n",
    "\n",
    "def process_data(employee_list):\n",
    "    department_list = []\n",
    "    for employee_data in employee_list:\n",
    "        department_list.append(employee_data['Department'])\n",
    "    department_data = {}\n",
    "    for department_name in set(department_list):\n",
    "        department_data[department_name] = department_list.count(department_name)\n",
    "    return department_data    \n",
    "    \n",
    "def write_report(dictionary, report_file):\n",
    "    with open(report_file, \"w+\") as f:\n",
    "        for k in sorted(dictionary):\n",
    "            f.write(str(k)+':'+str(dictionary[k])+'\\n')\n",
    "        f.close()    \n",
    "    \n",
    "    \n",
    "    \n",
    "    \n",
    "    \n",
    "\n"
   ]
  },
  {
   "cell_type": "code",
   "execution_count": 4,
   "id": "bbabcc4f",
   "metadata": {},
   "outputs": [
    {
     "name": "stdout",
     "output_type": "stream",
     "text": [
      "[{'Full Name': 'Audrey Miller', 'Username': 'audrey', 'Department': 'Development'}, {'Full Name': 'Arden Garcia', 'Username': 'ardeng', 'Department': 'Sales'}, {'Full Name': 'Bailey Thomas', 'Username': 'baileyt', 'Department': 'Human Resources'}, {'Full Name': 'Blake Sousa', 'Username': 'sousa', 'Department': 'IT infrastructure'}, {'Full Name': 'Cameron Nguyen', 'Username': 'nguyen', 'Department': 'Marketing'}, {'Full Name': 'Charlie Grey', 'Username': 'greyc', 'Department': 'Development'}, {'Full Name': 'Chris Black', 'Username': 'chrisb', 'Department': 'User Experience Research'}, {'Full Name': 'Courtney Silva', 'Username': 'silva', 'Department': 'IT infrastructure'}, {'Full Name': 'Darcy Johnsonn', 'Username': 'darcy', 'Department': 'IT infrastructure'}, {'Full Name': 'Elliot Lamb', 'Username': 'elliotl', 'Department': 'Development'}, {'Full Name': 'Emery Halls', 'Username': 'halls', 'Department': 'Sales'}, {'Full Name': 'Flynn McMillan', 'Username': 'flynn', 'Department': 'Marketing'}, {'Full Name': 'Harley Klose', 'Username': 'harley', 'Department': 'Human Resources'}, {'Full Name': 'Jean May Coy', 'Username': 'jeanm', 'Department': 'Vendor operations'}, {'Full Name': 'Kay Stevens', 'Username': 'kstev', 'Department': 'Sales'}, {'Full Name': 'Lio Nelson', 'Username': 'lion', 'Department': 'User Experience Research'}, {'Full Name': 'Logan Tillas', 'Username': 'tillas', 'Department': 'Vendor operations'}, {'Full Name': 'Micah Lopes', 'Username': 'micah', 'Department': 'Development'}, {'Full Name': 'Sol Mansi', 'Username': 'solm', 'Department': 'IT infrastructure'}]\n"
     ]
    }
   ],
   "source": [
    "employee_list = read_employees('employees_data.csv')\n",
    "print(employee_list)"
   ]
  },
  {
   "cell_type": "code",
   "execution_count": 5,
   "id": "eeea9b30",
   "metadata": {},
   "outputs": [
    {
     "name": "stdout",
     "output_type": "stream",
     "text": [
      "{'Human Resources': 2, 'Marketing': 2, 'User Experience Research': 2, 'Sales': 3, 'Vendor operations': 2, 'IT infrastructure': 4, 'Development': 4}\n"
     ]
    }
   ],
   "source": [
    "dictionary = process_data(employee_list)\n",
    "print(dictionary)"
   ]
  },
  {
   "cell_type": "code",
   "execution_count": 7,
   "id": "fe818019",
   "metadata": {},
   "outputs": [],
   "source": [
    "write_report(dictionary, 'employees_report.csv')"
   ]
  },
  {
   "cell_type": "code",
   "execution_count": 8,
   "id": "8a4443de",
   "metadata": {},
   "outputs": [
    {
     "name": "stdout",
     "output_type": "stream",
     "text": [
      "Development:4\n",
      "Human Resources:2\n",
      "IT infrastructure:4\n",
      "Marketing:2\n",
      "Sales:3\n",
      "User Experience Research:2\n",
      "Vendor operations:2\n",
      "\n"
     ]
    }
   ],
   "source": [
    "with open('employees_report.csv') as file:\n",
    "    read_text = file.read()\n",
    "    file.close()\n",
    "print(read_text)"
   ]
  },
  {
   "cell_type": "code",
   "execution_count": null,
   "id": "a54c6dfb",
   "metadata": {},
   "outputs": [],
   "source": []
  }
 ],
 "metadata": {
  "kernelspec": {
   "display_name": "Python 3 (ipykernel)",
   "language": "python",
   "name": "python3"
  },
  "language_info": {
   "codemirror_mode": {
    "name": "ipython",
    "version": 3
   },
   "file_extension": ".py",
   "mimetype": "text/x-python",
   "name": "python",
   "nbconvert_exporter": "python",
   "pygments_lexer": "ipython3",
   "version": "3.9.12"
  }
 },
 "nbformat": 4,
 "nbformat_minor": 5
}
